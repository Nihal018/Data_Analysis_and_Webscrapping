{
 "cells": [
  {
   "cell_type": "code",
   "execution_count": 7,
   "metadata": {},
   "outputs": [],
   "source": [
    "from bs4 import BeautifulSoup\n",
    "import requests\n",
    "import lxml\n",
    "import time\n",
    "from selenium import webdriver\n",
    "import os\n",
    "import random\n",
    "import pyprind\n",
    "from selenium.webdriver.chrome.service import Service"
   ]
  },
  {
   "cell_type": "code",
   "execution_count": 8,
   "metadata": {},
   "outputs": [],
   "source": [
    "my_headers = {\n",
    "    'User-Agent': 'Mozilla/5.0 (Macintosh; Intel Mac OS X 12_0_1) AppleWebKit/537.36 (KHTML, like Gecko) Chrome/122.0.6261.94 Safari/537.36'\n",
    "}\n"
   ]
  },
  {
   "cell_type": "code",
   "execution_count": 30,
   "metadata": {},
   "outputs": [],
   "source": [
    "def scroll_down(driver):\n",
    "    driver.set_window_size(1440,875)\n",
    "    driver.execute_script(\"window.scrollTo(0,397)\")\n",
    "    time.sleep(1)\n",
    "    driver.execute_script(\"window.scrollTo(0,24695)\")()\n",
    "\n",
    "def get_parameterized_url(page_no):\n",
    "    return f'https://internshala.com/jobs/computer-science-jobs/page-{page_no}/'\n",
    "\n",
    "def download_page(page_src, name):\n",
    "    # Set environment variable for headless mode\n",
    "    os.environ['CHROME_HEADLESS'] = '1'\n",
    "    \n",
    "    # Specify the path to the ChromeDriver executable\n",
    "    chrome_driver_path = '/Users/admin/Desktop/Data Analysis and Webscrapping/Webscrapping/chromedriver/chromedriver-mac-x64/chromedriver'\n",
    "    \n",
    "    # Configure Chrome options for headless mode\n",
    "    chrome_options = webdriver.ChromeOptions()\n",
    "    chrome_options.add_argument('--headless')\n",
    "    \n",
    "    # Initialize Chrome WebDriver\n",
    "    driver = webdriver.Chrome(service=Service(executable_path=chrome_driver_path), options=chrome_options)\n",
    "    \n",
    "    # Open the specified URL\n",
    "    driver.get(page_src)\n",
    "    \n",
    "    # Scroll down the page\n",
    "    scroll_down(driver)\n",
    "    \n",
    "    # Write page source to a file\n",
    "    with open(f\"../raw/{name}.html\", \"w\") as f:\n",
    "        f.write(driver.page_source)\n",
    "    \n",
    "    # Close the WebDriver instance\n",
    "    driver.close()\n",
    "\n",
    "def requests_download_pages(URL, filename):        \n",
    "    res = requests.get(url=URL, headers=my_headers)\n",
    "    with open(f\"./raw/{filename}.html\",'w') as f:\n",
    "        f.write(res.text)"
   ]
  },
  {
   "cell_type": "code",
   "execution_count": 17,
   "metadata": {},
   "outputs": [
    {
     "name": "stdout",
     "output_type": "stream",
     "text": [
      "Warning: No valid output stream.\n",
      "Title: \n",
      "  Started: 03/03/2024 14:35:43\n",
      "  Finished: 03/03/2024 14:36:16\n",
      "  Total time elapsed: 00:00:32\n"
     ]
    }
   ],
   "source": [
    "TOTAL_PAGES= 15\n",
    "\n",
    "bar = pyprind.ProgBar(TOTAL_PAGES)\n",
    "for i in range(15):\n",
    "    requests_download_pages(get_parameterized_url(i+1),f'internshala/computer-science-jobs/page-no={i+1}')\n",
    "    time.sleep(1)\n",
    "    bar.update()\n",
    "\n",
    "print(bar)\n",
    "\n",
    "\n"
   ]
  },
  {
   "cell_type": "code",
   "execution_count": 25,
   "metadata": {},
   "outputs": [],
   "source": [
    "path='/Users/admin/Desktop/Data Analysis and Webscrapping/Webscrapping/raw/internshala/computer-science-jobs/page-no=1.html'\n",
    "soup = BeautifulSoup(open(path))\n",
    "postLinks= soup.find_all(class_=\"btn btn-secondary view_detail_button_outline\")\n"
   ]
  },
  {
   "cell_type": "code",
   "execution_count": 37,
   "metadata": {},
   "outputs": [
    {
     "data": {
      "text/plain": [
       "13"
      ]
     },
     "execution_count": 37,
     "metadata": {},
     "output_type": "execute_result"
    }
   ],
   "source": [
    "len(postLinks)"
   ]
  },
  {
   "cell_type": "code",
   "execution_count": 34,
   "metadata": {},
   "outputs": [],
   "source": [
    "ALL_INTERN_POST_LINKS = []\n",
    "\n",
    "for i in range(1,TOTAL_PAGES+1):\n",
    "    path=f'/Users/admin/Desktop/Data Analysis and Webscrapping/Webscrapping/raw/internshala/computer-science-jobs/page-no={i}.html'\n",
    "    soup = BeautifulSoup(open(path))\n",
    "    postLinks= soup.find_all(class_=\"btn btn-secondary view_detail_button_outline\")\n",
    "    for link in postLinks:\n",
    "        try:\n",
    "            ALL_INTERN_POST_LINKS.append(link['href'])\n",
    "        except:\n",
    "            print(\"error finding attributes\")\n",
    "\n",
    "\n",
    "\n"
   ]
  },
  {
   "cell_type": "code",
   "execution_count": 35,
   "metadata": {},
   "outputs": [
    {
     "data": {
      "text/plain": [
       "['https://internshala.com/job/detail/executive-music-tracking-contractual-job-in-kolkata-at-saregama-india-limited1707196429',\n",
       " 'https://internshala.com/job/detail/3d-lighting-artist-job-in-indore-at-mdroid-network-private-limited1707371807',\n",
       " 'https://internshala.com/job/detail/junior-search-engine-optimization-seo-specialist-job-in-indore-at-shethink1707390763',\n",
       " 'https://internshala.com/job/detail/project-manager-job-in-mumbai-at-binary-numbers1707481804',\n",
       " 'https://internshala.com/job/detail/fresher-laravel-developer-job-in-anand-at-brainbean-technolabs-private-limited1707796997']"
      ]
     },
     "execution_count": 35,
     "metadata": {},
     "output_type": "execute_result"
    }
   ],
   "source": [
    "base_url='https://internshala.com'\n",
    "ALL_INTERN_POST_LINKS[:5]\n",
    "for i in range(len(ALL_INTERN_POST_LINKS) ):\n",
    "    ALL_INTERN_POST_LINKS[i] = base_url + ALL_INTERN_POST_LINKS[i]\n",
    "\n",
    "ALL_INTERN_POST_LINKS[:5]"
   ]
  },
  {
   "cell_type": "code",
   "execution_count": 38,
   "metadata": {},
   "outputs": [
    {
     "name": "stdout",
     "output_type": "stream",
     "text": [
      "Warning: No valid output stream.\n",
      "Title: \n",
      "  Started: 03/03/2024 15:22:29\n",
      "  Finished: 03/03/2024 15:26:44\n",
      "  Total time elapsed: 00:04:14\n"
     ]
    }
   ],
   "source": [
    "total_length = len(ALL_INTERN_POST_LINKS)\n",
    "bar = pyprind.ProgBar(total_length)\n",
    "\n",
    "for i in range(total_length):\n",
    "    requests_download_pages(ALL_INTERN_POST_LINKS[i],f\"internshala/job_post_pages/page-{i+1}\")\n",
    "    bar.update()\n",
    "\n",
    "print(bar)"
   ]
  }
 ],
 "metadata": {
  "kernelspec": {
   "display_name": "Python 3",
   "language": "python",
   "name": "python3"
  },
  "language_info": {
   "codemirror_mode": {
    "name": "ipython",
    "version": 3
   },
   "file_extension": ".py",
   "mimetype": "text/x-python",
   "name": "python",
   "nbconvert_exporter": "python",
   "pygments_lexer": "ipython3",
   "version": "3.11.4"
  }
 },
 "nbformat": 4,
 "nbformat_minor": 2
}
