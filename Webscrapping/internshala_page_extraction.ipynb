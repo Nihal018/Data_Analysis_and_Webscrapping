{
 "cells": [
  {
   "cell_type": "code",
   "execution_count": 1,
   "metadata": {},
   "outputs": [],
   "source": [
    "from bs4 import BeautifulSoup\n",
    "import requests\n",
    "import lxml\n",
    "import time\n",
    "from selenium import webdriver\n",
    "import os\n",
    "import random\n",
    "import pyprind\n",
    "from pprint import pprint\n",
    "import pandas as pd\n",
    "import os"
   ]
  },
  {
   "cell_type": "code",
   "execution_count": null,
   "metadata": {},
   "outputs": [],
   "source": []
  },
  {
   "cell_type": "code",
   "execution_count": 2,
   "metadata": {},
   "outputs": [],
   "source": [
    "def get_domain_and_company(node):\n",
    "    company_node = node.find(class_= \"company\")\n",
    "    domain_profile = company_node.select('.heading_4_5.profile')\n",
    "    company_name = company_node.select('.heading_6.company_name')\n",
    "    return {'domain_profile': domain_profile[0].text.strip(), 'company_name' : company_name[0].text.strip() }\n",
    "\n"
   ]
  },
  {
   "cell_type": "code",
   "execution_count": 3,
   "metadata": {},
   "outputs": [],
   "source": [
    "def getlocation(node):\n",
    "    container_node = node.find(class_='individual_internship_details')\n",
    "    location_node = container_node.select('.location_link')\n",
    "\n",
    "    if(len(location_node) >0):\n",
    "        location = location_node[0].text.strip()\n",
    "        return {\"location\" : location}\n",
    "\n",
    "    return None\n",
    "\n",
    "\n"
   ]
  },
  {
   "cell_type": "code",
   "execution_count": 4,
   "metadata": {},
   "outputs": [],
   "source": [
    "def get_internship_metadata(node):\n",
    "    row_nodes = node.select(\".other_detail_item\")\n",
    "    info = dict()\n",
    "    for row in row_nodes:\n",
    "        head = row.find(class_=\"item_heading\")\n",
    "        details = row.find(class_=\"item_body\")\n",
    "        if head != None and details != None:\n",
    "            info[head.text.strip()] = details.text.strip()\n",
    "        \n",
    "    num_applicants= node.find(class_=\"applications_message\")\n",
    "    if num_applicants != None:\n",
    "        info[\"applicants\"]= num_applicants\n",
    "    \n",
    "    return info\n",
    "\n",
    "\n",
    "\n"
   ]
  },
  {
   "cell_type": "markdown",
   "metadata": {},
   "source": []
  },
  {
   "cell_type": "code",
   "execution_count": 5,
   "metadata": {},
   "outputs": [],
   "source": [
    "def get_internship_details(node):\n",
    "    internship_details_node = node.find(class_='internship_details')\n",
    "    sections = internship_details_node.find_all('div')\n",
    "\n",
    "    contents = dict()\n",
    "    cur_key = internship_details_node.find('h2')\n",
    "    for node in sections:\n",
    "        attrs = node.attrs\n",
    "        if('class' in attrs):\n",
    "            if('section_heading' in attrs['class']):\n",
    "                cur_key = node.text.strip()\n",
    "                contents[cur_key] = []\n",
    "            if('text-container' in attrs['class'] or 'round_tabs_container' in attrs['class']):\n",
    "                contents[cur_key].append(node.text.strip())\n",
    "    old_key = list(contents.keys())[0]\n",
    "    contents['company_details'] = contents[old_key]\n",
    "    del contents[old_key]\n",
    "    for val in contents:\n",
    "        if type(contents[val]) is list:\n",
    "            contents[val] = ';'.join(contents[val])\n",
    "    return contents"
   ]
  },
  {
   "cell_type": "code",
   "execution_count": 7,
   "metadata": {},
   "outputs": [],
   "source": [
    "# ROOT_PATH = './raw/internshala/job_post_pages'\n",
    "# all_pages = os.listdir(ROOT_PATH)\n",
    "\n",
    "# all_pages_data = []\n",
    "# bar = pyprind.ProgBar(len(all_pages))\n",
    "\n",
    "# for page in all_pages:\n",
    "#     path = ROOT_PATH +'/' + page\n",
    "#     soup = BeautifulSoup(open(path))\n",
    "#     container_node = soup.find(class_=['detail_view'])\n",
    "#     data= dict()\n",
    "\n",
    "#     location = getlocation(container_node)\n",
    "#     dnc = get_domain_and_company(container_node)\n",
    "#     details = get_internship_details(container_node)\n",
    "#     metadata = get_internship_metadata(container_node)\n",
    "#     data.update(location)\n",
    "#     data.update(dnc)\n",
    "#     data.update(details)\n",
    "#     data.update(metadata)\n",
    "#     all_pages_data.append(data)\n",
    "\n",
    "#     bar.update()\n",
    "\n",
    "# print(bar)\n",
    "\n",
    "\n",
    "\n",
    "\n",
    "\n",
    "\n",
    "\n",
    "\n",
    "\n",
    "\n"
   ]
  },
  {
   "cell_type": "code",
   "execution_count": null,
   "metadata": {},
   "outputs": [],
   "source": []
  }
 ],
 "metadata": {
  "kernelspec": {
   "display_name": "Python 3",
   "language": "python",
   "name": "python3"
  },
  "language_info": {
   "codemirror_mode": {
    "name": "ipython",
    "version": 3
   },
   "file_extension": ".py",
   "mimetype": "text/x-python",
   "name": "python",
   "nbconvert_exporter": "python",
   "pygments_lexer": "ipython3",
   "version": "3.11.4"
  }
 },
 "nbformat": 4,
 "nbformat_minor": 2
}
